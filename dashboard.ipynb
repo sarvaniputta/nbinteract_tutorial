{
 "cells": [
  {
   "cell_type": "markdown",
   "metadata": {},
   "source": [
    "<h1><center>Story of what happens in American's life</center></h1>"
   ]
  },
  {
   "cell_type": "markdown",
   "metadata": {},
   "source": [
    "It is a well-known fact that a complete rotation of the planet Earth takes 24 hours causing the formation of day and night. The fascinating part is to analyze how the people in the world decide to spend the available precious 24 hours. The demographics plays a very vital role on analysing and understanding the life-style of people mainly due to the influence of the time-zone, culture, population, socio-economy factors, current trend, etc. In this article, we focus on visually studying the behaviour of person living in the United States for the most obvious reasons that the country comprises of diverse, multi-cultural and a democratic-republic population.\n",
    "\n",
    "To go another step ahead, this article shows how an American spends his/her day which is classified into a number of activities like Personal Care, Travelling, Socialising-Leisure time, Religion, Work, Sports- Fitness and so on."
   ]
  },
  {
   "cell_type": "code",
   "execution_count": 1,
   "metadata": {},
   "outputs": [],
   "source": [
    "#nbi:hide_in\n",
    "import pandas as pd\n",
    "import bqplot as bq\n",
    "import matplotlib.pyplot as plt\n",
    "import matplotlib as mpl\n",
    "import numpy as np\n",
    "import ipywidgets"
   ]
  },
  {
   "cell_type": "code",
   "execution_count": 3,
   "metadata": {},
   "outputs": [
    {
     "data": {
      "application/vnd.jupyter.widget-view+json": {
       "model_id": "475e287320804d09bcb5b54c52b25f55",
       "version_major": 2,
       "version_minor": 0
      },
      "text/plain": [
       "VBox(children=(Dropdown(options=('Leisure Time', 'Work Time'), value='Leisure Time'), HBox(children=(Figure(ax…"
      ]
     },
     "metadata": {},
     "output_type": "display_data"
    }
   ],
   "source": [
    "#nbi:hide_in\n",
    "cps = pd.read_csv('https://raw.githubusercontent.com/sarvaniputta/nbinteract_tutorial/master/atuscps_2017.csv')\n",
    "summary = pd.read_csv('https://raw.githubusercontent.com/sarvaniputta/nbinteract_tutorial/master/atussum_2017.csv') #Summary file of 2017\n",
    "cps_ = cps.groupby('TUCASEID').GESTFIPS.first().to_frame()\n",
    "\n",
    "merged = summary.merge(cps_, left_on = 'TUCASEID', right_index = True)\n",
    "\n",
    "leisure_columns = [x for x in merged.columns if x.startswith('t1203')]\n",
    "work_columns = [x for x in merged.columns if x.startswith('t0501')]\n",
    "leisure_by_state = merged.loc[:, leisure_columns].groupby(merged.GESTFIPS).mean()\n",
    "\n",
    "work_by_state = merged.loc[:, work_columns].groupby(merged.GESTFIPS).mean()\n",
    "\n",
    "\n",
    "time_spent = merged.loc[:, ['TUCASEID']+leisure_columns].set_index('TUCASEID').sum(axis=1)\n",
    "\n",
    "\n",
    "def normalized_hist(data, bins=10):\n",
    "    counts, bins = np.histogram(data, bins=bins)\n",
    "    counts = counts*100/counts.sum()\n",
    "    return bins, counts   \n",
    "\n",
    "\n",
    "cscale = bq.ColorScale(scheme = 'viridis')        \n",
    "                   # reverse the colorscale or Hawaii is not visible\n",
    "\n",
    "map_tt = bq.Tooltip(labels = ['State', 'Leisure time (minutes)'], fields = ['name', 'color'])\n",
    "sc_geo = bq.AlbersUSA()\n",
    "states_map = bq.Map(color = leisure_by_state.sum(axis=1).round(1).to_dict(), \n",
    "                     map_data=bq.topo_load('map_data/USStatesMap.json'),\n",
    "                    scales = {'projection':sc_geo, 'color':cscale},tooltip = map_tt,\n",
    "                    interactions = {'click': 'select', 'hover':'tooltip', },\n",
    "                    anchor_style = {'fill':'red'}, \n",
    "                    selected_style = {'opacity': 1.0},\n",
    "                    unselected_style = {'opacity': 1.0})\n",
    "\n",
    "cax = bq.ColorAxis(scale=cscale, orientation='vertical', side='left')\n",
    "fig_map = bq.Figure(marks=[states_map],axes=[cax], title = 'Average time spent for leisure')\n",
    "fig_map.fig_margin = {'bottom': 10, 'top': 10, 'left': 0, 'right': 0};\n",
    "\n",
    "               \n",
    "sc_x2 = bq.LinearScale()\n",
    "sc_y2 = bq.LinearScale()\n",
    "ax_x2 = bq.Axis(label = 'Time spent for leisure(minutes)', scale=sc_x2, orientation='horizontal')\n",
    "ax_y2 = bq.Axis(label='Frequency%', scale=sc_y2,orientation='vertical')\n",
    "x, y = normalized_hist(time_spent, bins=14)\n",
    "bars = bq.Bars(x = x[:-1], y=y, align='right', scales={'x': sc_x2, 'y': sc_y2})\n",
    "fig_bar = bq.Figure(marks = [bars],axes=[ax_x2, ax_y2]);\n",
    "\n",
    "\n",
    "def on_select(change):\n",
    "    \n",
    "    if not change['new']:\n",
    "        selected_fips = merged.GESTFIPS.unique()\n",
    "    else:\n",
    "        selected_fips = change['new']\n",
    "        states_map.selected = [selected_fips[-1]]\n",
    "    activity = activity_dropdown.value #Leisure time\n",
    "    if activity == 'Leisure Time':\n",
    "        columns = [x for x in merged.columns if x.startswith('t1203')]\n",
    "    elif activity == 'Work Time':\n",
    "        columns = [x for x in merged.columns if x.startswith('t0501')]\n",
    "    x, y = normalized_hist(merged\n",
    "                            .loc[merged.GESTFIPS.isin(selected_fips), ['TUCASEID']+columns]\n",
    "                            .set_index('TUCASEID')\n",
    "                            .sum(axis=1), bins=14)\n",
    "    bars.x = x\n",
    "    bars.y = y\n",
    "states_map.observe(on_select, 'selected')\n",
    "\n",
    "activity_dropdown = ipywidgets.Dropdown(options = ['Leisure Time','Work Time'],\n",
    "                    value='Leisure Time', Description = 'Select activity')\n",
    "\n",
    "\n",
    "\n",
    "def on_activity_change(change):\n",
    "    states_map.selected=[]\n",
    "    activity = activity_dropdown.value #Leisure time\n",
    "    if activity == 'Leisure Time':\n",
    "        columns = [x for x in merged.columns if x.startswith('t1203')]\n",
    "        ax_x2.label = 'Time spent for leisure(minutes)'\n",
    "        fig_map.title = 'Average time spent for leisure'\n",
    "        map_tt.labels = ['State', 'Leisure time (minutes)']\n",
    "    elif activity == 'Work Time':\n",
    "        columns = [x for x in merged.columns if x.startswith('t0501')]\n",
    "        ax_x2.label = 'Time spent working(minutes)'\n",
    "        fig_map.title = 'Average time spent working'\n",
    "        map_tt.labels = ['State', 'Working time (minutes)']\n",
    "    filtered = merged.loc[:, columns].groupby(merged.GESTFIPS).mean().sum(axis=1).round(1).to_dict()\n",
    "    states_map.color = filtered\n",
    "    \n",
    "\n",
    "activity_dropdown.observe(on_activity_change, 'value')\n",
    "ipywidgets.VBox([activity_dropdown,ipywidgets.HBox([fig_map, fig_bar])])"
   ]
  }
 ],
 "metadata": {
  "kernelspec": {
   "display_name": "Python 3",
   "language": "python",
   "name": "python3"
  },
  "language_info": {
   "codemirror_mode": {
    "name": "ipython",
    "version": 3
   },
   "file_extension": ".py",
   "mimetype": "text/x-python",
   "name": "python",
   "nbconvert_exporter": "python",
   "pygments_lexer": "ipython3",
   "version": "3.7.1"
  }
 },
 "nbformat": 4,
 "nbformat_minor": 2
}
